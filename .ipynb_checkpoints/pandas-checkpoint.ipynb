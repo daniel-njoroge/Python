{
 "cells": [
  {
   "cell_type": "code",
   "execution_count": 110,
   "id": "3309ca47-3767-4f9d-8645-c107e0496cf3",
   "metadata": {},
   "outputs": [],
   "source": [
    "import pandas as pd"
   ]
  },
  {
   "cell_type": "code",
   "execution_count": 111,
   "id": "b5a49648-a9bf-40d1-ac25-2f86e4f25d24",
   "metadata": {
    "scrolled": true
   },
   "outputs": [
    {
     "data": {
      "text/plain": [
       "A    1\n",
       "B    2\n",
       "C    3\n",
       "Name: col1, dtype: int64"
      ]
     },
     "execution_count": 111,
     "metadata": {},
     "output_type": "execute_result"
    }
   ],
   "source": [
    "s = pd.Series([1,2,3],\n",
    "             index=['A', 'B', 'C'],\n",
    "             name='col1')\n",
    "s"
   ]
  },
  {
   "cell_type": "code",
   "execution_count": 112,
   "id": "538cbef2-4faf-472d-ba5a-a11355624fe1",
   "metadata": {},
   "outputs": [
    {
     "data": {
      "text/html": [
       "<div>\n",
       "<style scoped>\n",
       "    .dataframe tbody tr th:only-of-type {\n",
       "        vertical-align: middle;\n",
       "    }\n",
       "\n",
       "    .dataframe tbody tr th {\n",
       "        vertical-align: top;\n",
       "    }\n",
       "\n",
       "    .dataframe thead th {\n",
       "        text-align: right;\n",
       "    }\n",
       "</style>\n",
       "<table border=\"1\" class=\"dataframe\">\n",
       "  <thead>\n",
       "    <tr style=\"text-align: right;\">\n",
       "      <th></th>\n",
       "      <th>col1</th>\n",
       "      <th>col2</th>\n",
       "    </tr>\n",
       "  </thead>\n",
       "  <tbody>\n",
       "    <tr>\n",
       "      <th>A</th>\n",
       "      <td>1</td>\n",
       "      <td>4</td>\n",
       "    </tr>\n",
       "    <tr>\n",
       "      <th>B</th>\n",
       "      <td>2</td>\n",
       "      <td>5</td>\n",
       "    </tr>\n",
       "    <tr>\n",
       "      <th>C</th>\n",
       "      <td>3</td>\n",
       "      <td>6</td>\n",
       "    </tr>\n",
       "  </tbody>\n",
       "</table>\n",
       "</div>"
      ],
      "text/plain": [
       "   col1  col2\n",
       "A     1     4\n",
       "B     2     5\n",
       "C     3     6"
      ]
     },
     "execution_count": 112,
     "metadata": {},
     "output_type": "execute_result"
    }
   ],
   "source": [
    "data = [[1,4], [2,5], [3,6]]\n",
    "index = ['A', 'B', 'C']\n",
    "df1 = pd.DataFrame(data, index=index, columns=['col1', 'col2'])\n",
    "df1"
   ]
  },
  {
   "cell_type": "code",
   "execution_count": 6,
   "id": "c1841853-97ea-4d26-9b53-b70bcde67093",
   "metadata": {},
   "outputs": [
    {
     "ename": "NameError",
     "evalue": "name 'pd' is not defined",
     "output_type": "error",
     "traceback": [
      "\u001b[1;31m---------------------------------------------------------------------------\u001b[0m",
      "\u001b[1;31mNameError\u001b[0m                                 Traceback (most recent call last)",
      "Cell \u001b[1;32mIn[6], line 1\u001b[0m\n\u001b[1;32m----> 1\u001b[0m df3\u001b[38;5;241m=\u001b[39m pd\u001b[38;5;241m.\u001b[39mDataFrame([[\u001b[38;5;241m7\u001b[39m],[\u001b[38;5;241m8\u001b[39m],[\u001b[38;5;241m9\u001b[39m]],\n\u001b[0;32m      2\u001b[0m                   index\u001b[38;5;241m=\u001b[39m[\u001b[38;5;124m'\u001b[39m\u001b[38;5;124mA\u001b[39m\u001b[38;5;124m'\u001b[39m,\u001b[38;5;124m'\u001b[39m\u001b[38;5;124mB\u001b[39m\u001b[38;5;124m'\u001b[39m,\u001b[38;5;124m'\u001b[39m\u001b[38;5;124mC\u001b[39m\u001b[38;5;124m'\u001b[39m],\n\u001b[0;32m      3\u001b[0m                   columns\u001b[38;5;241m=\u001b[39m[\u001b[38;5;124m'\u001b[39m\u001b[38;5;124mcols3\u001b[39m\u001b[38;5;124m'\u001b[39m])\n",
      "\u001b[1;31mNameError\u001b[0m: name 'pd' is not defined"
     ]
    }
   ],
   "source": [
    "df3= pd.DataFrame([[7],[8],[9]],\n",
    "                  index=['A','B','C'],\n",
    "                  columns=['cols3'])"
   ]
  },
  {
   "cell_type": "code",
   "execution_count": 113,
   "id": "b83d825c",
   "metadata": {},
   "outputs": [
    {
     "data": {
      "text/html": [
       "<div>\n",
       "<style scoped>\n",
       "    .dataframe tbody tr th:only-of-type {\n",
       "        vertical-align: middle;\n",
       "    }\n",
       "\n",
       "    .dataframe tbody tr th {\n",
       "        vertical-align: top;\n",
       "    }\n",
       "\n",
       "    .dataframe thead th {\n",
       "        text-align: right;\n",
       "    }\n",
       "</style>\n",
       "<table border=\"1\" class=\"dataframe\">\n",
       "  <thead>\n",
       "    <tr style=\"text-align: right;\">\n",
       "      <th></th>\n",
       "      <th></th>\n",
       "      <th></th>\n",
       "      <th></th>\n",
       "      <th></th>\n",
       "      <th></th>\n",
       "      <th></th>\n",
       "      <th></th>\n",
       "    </tr>\n",
       "  </thead>\n",
       "  <tbody>\n",
       "    <tr>\n",
       "      <th>Age</th>\n",
       "      <th>Gender</th>\n",
       "      <th>Smoking Status</th>\n",
       "      <th>Lung Capacity</th>\n",
       "      <th>Disease Type</th>\n",
       "      <th>Treatment Type</th>\n",
       "      <th>Hospital Visits</th>\n",
       "      <td>Recovered</td>\n",
       "    </tr>\n",
       "    <tr>\n",
       "      <th>71.0</th>\n",
       "      <th>Female</th>\n",
       "      <th>No</th>\n",
       "      <th>4.49</th>\n",
       "      <th>COPD</th>\n",
       "      <th>Therapy</th>\n",
       "      <th>14.0</th>\n",
       "      <td>Yes</td>\n",
       "    </tr>\n",
       "    <tr>\n",
       "      <th>34.0</th>\n",
       "      <th>Female</th>\n",
       "      <th>Yes</th>\n",
       "      <th>NaN</th>\n",
       "      <th>Bronchitis</th>\n",
       "      <th>Surgery</th>\n",
       "      <th>7.0</th>\n",
       "      <td>No</td>\n",
       "    </tr>\n",
       "    <tr>\n",
       "      <th>80.0</th>\n",
       "      <th>Male</th>\n",
       "      <th>Yes</th>\n",
       "      <th>1.95</th>\n",
       "      <th>COPD</th>\n",
       "      <th>NaN</th>\n",
       "      <th>4.0</th>\n",
       "      <td>Yes</td>\n",
       "    </tr>\n",
       "    <tr>\n",
       "      <th rowspan=\"3\" valign=\"top\">40.0</th>\n",
       "      <th>Female</th>\n",
       "      <th>Yes</th>\n",
       "      <th>NaN</th>\n",
       "      <th>Bronchitis</th>\n",
       "      <th>Medication</th>\n",
       "      <th>1.0</th>\n",
       "      <td>No</td>\n",
       "    </tr>\n",
       "    <tr>\n",
       "      <th>...</th>\n",
       "      <th>...</th>\n",
       "      <th>...</th>\n",
       "      <th>...</th>\n",
       "      <th>...</th>\n",
       "      <th>...</th>\n",
       "      <td>...</td>\n",
       "    </tr>\n",
       "    <tr>\n",
       "      <th>Male</th>\n",
       "      <th>No</th>\n",
       "      <th>1.43</th>\n",
       "      <th>Lung Cancer</th>\n",
       "      <th>Medication</th>\n",
       "      <th>1.0</th>\n",
       "      <td>Yes</td>\n",
       "    </tr>\n",
       "    <tr>\n",
       "      <th>21.0</th>\n",
       "      <th>NaN</th>\n",
       "      <th>Yes</th>\n",
       "      <th>1.5</th>\n",
       "      <th>COPD</th>\n",
       "      <th>Medication</th>\n",
       "      <th>4.0</th>\n",
       "      <td>No</td>\n",
       "    </tr>\n",
       "    <tr>\n",
       "      <th>42.0</th>\n",
       "      <th>Female</th>\n",
       "      <th>No</th>\n",
       "      <th>5.53</th>\n",
       "      <th>Pneumonia</th>\n",
       "      <th>Surgery</th>\n",
       "      <th>5.0</th>\n",
       "      <td>No</td>\n",
       "    </tr>\n",
       "    <tr>\n",
       "      <th>82.0</th>\n",
       "      <th>Male</th>\n",
       "      <th>No</th>\n",
       "      <th>3.68</th>\n",
       "      <th>Bronchitis</th>\n",
       "      <th>Medication</th>\n",
       "      <th>9.0</th>\n",
       "      <td>No</td>\n",
       "    </tr>\n",
       "    <tr>\n",
       "      <th>45.0</th>\n",
       "      <th>Female</th>\n",
       "      <th>Yes</th>\n",
       "      <th>3.79</th>\n",
       "      <th>Pneumonia</th>\n",
       "      <th>Medication</th>\n",
       "      <th>10.0</th>\n",
       "      <td>Yes</td>\n",
       "    </tr>\n",
       "  </tbody>\n",
       "</table>\n",
       "<p>5201 rows × 1 columns</p>\n",
       "</div>"
      ],
      "text/plain": [
       "                                                                                               \n",
       "Age  Gender Smoking Status Lung Capacity Disease Type Treatment Type Hospital Visits  Recovered\n",
       "71.0 Female No             4.49          COPD         Therapy        14.0                   Yes\n",
       "34.0 Female Yes            NaN           Bronchitis   Surgery        7.0                     No\n",
       "80.0 Male   Yes            1.95          COPD         NaN            4.0                    Yes\n",
       "40.0 Female Yes            NaN           Bronchitis   Medication     1.0                     No\n",
       "...                                                                                         ...\n",
       "     Male   No             1.43          Lung Cancer  Medication     1.0                    Yes\n",
       "21.0 NaN    Yes            1.5           COPD         Medication     4.0                     No\n",
       "42.0 Female No             5.53          Pneumonia    Surgery        5.0                     No\n",
       "82.0 Male   No             3.68          Bronchitis   Medication     9.0                     No\n",
       "45.0 Female Yes            3.79          Pneumonia    Medication     10.0                   Yes\n",
       "\n",
       "[5201 rows x 1 columns]"
      ]
     },
     "execution_count": 113,
     "metadata": {},
     "output_type": "execute_result"
    }
   ],
   "source": [
    "df = pd.read_csv(r\"C:\\Users\\USER\\Desktop\\Python\\lung_disease_data.csv\",encoding='utf-8', names=[' '])\n",
    "df"
   ]
  },
  {
   "cell_type": "code",
   "execution_count": null,
   "id": "37368575-e028-4ef1-8f11-3411cc1837f8",
   "metadata": {},
   "outputs": [],
   "source": []
  }
 ],
 "metadata": {
  "kernelspec": {
   "display_name": "Python 3 (ipykernel)",
   "language": "python",
   "name": "python3"
  },
  "language_info": {
   "codemirror_mode": {
    "name": "ipython",
    "version": 3
   },
   "file_extension": ".py",
   "mimetype": "text/x-python",
   "name": "python",
   "nbconvert_exporter": "python",
   "pygments_lexer": "ipython3",
   "version": "3.12.7"
  }
 },
 "nbformat": 4,
 "nbformat_minor": 5
}
