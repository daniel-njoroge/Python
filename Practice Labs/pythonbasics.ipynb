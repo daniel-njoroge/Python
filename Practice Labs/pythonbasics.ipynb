{
 "cells": [
  {
   "cell_type": "markdown",
   "id": "1f51b685-97fa-4c17-b3aa-28e74198e3c5",
   "metadata": {},
   "source": [
    "1.\tCheck the version of pandas and numpy installed "
   ]
  },
  {
   "cell_type": "code",
   "execution_count": 1,
   "id": "afc9ddd4-e6d9-46f8-8c97-1a8c068502e7",
   "metadata": {},
   "outputs": [
    {
     "name": "stdout",
     "output_type": "stream",
     "text": [
      "1.26.4\n",
      "2.2.2\n"
     ]
    }
   ],
   "source": [
    "import numpy; print (numpy.version.version) #numpy version\n",
    "import pandas as pd; print (pd.__version__)  #pandas version"
   ]
  },
  {
   "cell_type": "markdown",
   "id": "7677e8ee-b027-4a82-955b-f0f83552d217",
   "metadata": {},
   "source": [
    "2.\tWrite a program to print 'Hello BBC/BIT Year 3 AI Team’. Repeat the output 10 times"
   ]
  },
  {
   "cell_type": "code",
   "execution_count": 1,
   "id": "3cdeb487-b0c9-4b76-a342-554dc754f429",
   "metadata": {},
   "outputs": [
    {
     "name": "stdout",
     "output_type": "stream",
     "text": [
      "Hello BBC/BIT Year 3 AI Team\n",
      "Hello BBC/BIT Year 3 AI Team\n",
      "Hello BBC/BIT Year 3 AI Team\n",
      "Hello BBC/BIT Year 3 AI Team\n",
      "Hello BBC/BIT Year 3 AI Team\n",
      "Hello BBC/BIT Year 3 AI Team\n",
      "Hello BBC/BIT Year 3 AI Team\n",
      "Hello BBC/BIT Year 3 AI Team\n",
      "Hello BBC/BIT Year 3 AI Team\n",
      "Hello BBC/BIT Year 3 AI Team\n"
     ]
    }
   ],
   "source": [
    "count= 0\n",
    "while count < 10:\n",
    "    print(\"Hello BBC/BIT Year 3 AI Team\")\n",
    "    count += 1"
   ]
  },
  {
   "cell_type": "markdown",
   "id": "b484089f-48e4-4b43-bede-883859f07ce4",
   "metadata": {},
   "source": [
    "3.\tWrite a program to define two variables, calculate their sum and display the results"
   ]
  },
  {
   "cell_type": "code",
   "execution_count": 5,
   "id": "27e373ba-c28f-4105-8800-4033584f506d",
   "metadata": {},
   "outputs": [
    {
     "name": "stdout",
     "output_type": "stream",
     "text": [
      "12\n"
     ]
    }
   ],
   "source": [
    "num1 = 5\n",
    "num2 = 7\n",
    "sum =  num1 + num2\n",
    "print(sum)"
   ]
  },
  {
   "cell_type": "markdown",
   "id": "59cb810f-8b3d-42e1-9623-a0dde5067ec0",
   "metadata": {},
   "source": [
    "4.\ta.\tWrite a program to define a tuple that contains only one element.\n",
    "    b.\tWrite a program to define a tuple and then use the 'for loop' to print all the elements.\n"
   ]
  },
  {
   "cell_type": "code",
   "execution_count": 15,
   "id": "8f177e0d-03bd-4adf-a1f4-0f9c142ca848",
   "metadata": {},
   "outputs": [
    {
     "name": "stdout",
     "output_type": "stream",
     "text": [
      "banana\n",
      "wheat\n",
      "rice\n",
      "maize\n"
     ]
    }
   ],
   "source": [
    "mytuple = ('banana')\n",
    "print(mytuple)\n",
    "cereals = ('wheat','rice','maize')\n",
    "for cereal in cereals:\n",
    "    print(cereal)"
   ]
  },
  {
   "cell_type": "markdown",
   "id": "29971499-b3df-49ca-bb4b-6c6edfb13dd2",
   "metadata": {},
   "source": [
    "5.\tWrite code to create a Python dictionary (the dict type) and print out the details. Add two entries to the dictionary: Associate the key ‘name’ with the value ‘Reagan’, and associate the key ‘phone’ with ‘+254 722 222333’"
   ]
  },
  {
   "cell_type": "code",
   "execution_count": 18,
   "id": "e748bc40-6c56-418d-8bc9-1a202e7c48ab",
   "metadata": {},
   "outputs": [
    {
     "name": "stdout",
     "output_type": "stream",
     "text": [
      "{'name': 'Reagan', 'phone': '+254 722 222333'}\n"
     ]
    }
   ],
   "source": [
    "person = {}\n",
    "person['name'] = 'Reagan'\n",
    "person['phone'] = '+254 722 222333'\n",
    "\n",
    "print(person)\n"
   ]
  },
  {
   "cell_type": "markdown",
   "id": "8af8b689-9c4d-4853-b9af-dd101af7ce61",
   "metadata": {},
   "source": [
    "6.\tDefine the variable s as the string s=“Almost Done with AI\"\n",
    "    a.\tWhat is the value of 3*s?   b)  What is the value of s[1]?\n",
    "    c.\tWhat is the value of s[-1]?  d) What is the value of s[::2]?\n"
   ]
  },
  {
   "cell_type": "code",
   "execution_count": 55,
   "id": "a73137c0-aedf-4a76-9cd6-94c6b0b03c2c",
   "metadata": {},
   "outputs": [
    {
     "name": "stdout",
     "output_type": "stream",
     "text": [
      "answer (a) : Almost Done with AIAlmost Done with AIAlmost Done with AI\n",
      "answer (b) : l\n",
      "answer (c) : I\n",
      "answer (d) : Ams oewt I\n"
     ]
    }
   ],
   "source": [
    "s='Almost Done with AI'\n",
    "print(\"answer (a) : \" + (3*s))\n",
    "print(\"answer (b) : \" + s[1])\n",
    "print(\"answer (c) : \" + s[-1])\n",
    "print(\"answer (d) : \" + s[::2])"
   ]
  },
  {
   "cell_type": "markdown",
   "id": "50e8f956-db50-46b0-9a42-4217aa0519ad",
   "metadata": {},
   "source": [
    "7.\tUse the following declarations to answer the questions below:\n",
    "import string\n",
    "text = “BIT/BBC AI Comrades \"\n",
    "a.\tprint (\"upper\", \"=>\", string.upper(text))\n",
    "b.\tprint (\"lower\", \"=>\", string.lower(text))\n",
    "c.\tprint (\"split\", \"=>\", string.split(text))\n",
    "d.\tprint (\"join\", \"=>\", string.join(string.split(text), \"+\"))\n",
    "e.\tprint (\"replace\", \"=>\", string.replace(text, \"Python\", \"Java\"))\n",
    "f.\tprint (\"find\", \"=>\", string.find(text, \"Python\"), string.find(text, \"Java\"))\n",
    "g.\tprint (\"count\", \"=>\", string.count(text, \"n\"))\n"
   ]
  },
  {
   "cell_type": "code",
   "execution_count": 72,
   "id": "1a48a9e2-9dde-46b3-8897-3a8bb1acf085",
   "metadata": {},
   "outputs": [
    {
     "name": "stdout",
     "output_type": "stream",
     "text": [
      "upper => BIT/BBC AI COMRADES\n",
      "lower => bit/bbc ai comrades\n",
      "split => ['BIT/BBC', 'AI', 'Comrades']\n",
      "join => BIT/BBC+AI+Comrades\n",
      "replace => BIT/BBC AI Comrades\n",
      "find => -1 8\n",
      "count => 0\n"
     ]
    }
   ],
   "source": [
    "import string\n",
    "text = 'BIT/BBC AI Comrades'\n",
    "print(\"upper\", \"=>\", text.upper())\n",
    "print(\"lower\", \"=>\", text.lower())\n",
    "print(\"split\", \"=>\", text.split())\n",
    "print(\"join\", \"=>\", \"+\".join(text.split()))\n",
    "print(\"replace\", \"=>\", text.replace(\"Python\", \"Java\"))\n",
    "print(\"find\", \"=>\", text.find(\"Python\"), text.find(\"AI\"))\n",
    "print(\"count\", \"=>\", text.count(\"i\"))"
   ]
  },
  {
   "cell_type": "markdown",
   "id": "643bfe5d-076c-47fa-bb73-87a14221661e",
   "metadata": {},
   "source": [
    "8.\tDefine the variable s as the string s = “Almost Done with AI\""
   ]
  },
  {
   "cell_type": "code",
   "execution_count": null,
   "id": "bd967bc9-192f-484a-a524-b2f29b2d4adb",
   "metadata": {},
   "outputs": [],
   "source": [
    "s = “Almost Done with AI\""
   ]
  },
  {
   "cell_type": "markdown",
   "id": "ab1b8810-b081-4382-86a4-deb4606237c1",
   "metadata": {},
   "source": [
    "9.\tUse a for/while loop to:\n",
    "a.\tPrint the numbers 0 to 100 \n",
    "b.\tPrint the numbers 0 to 100 that are divisible by 7\n",
    "c.\tPrint the numbers 1 to 100 that are divisible by 5 but not by 3\n",
    "d.\tPrint for each of the numbers x = 2; : : : 20, all numbers that divide x, excluding 1 and x. Hence, for 18, it should print 2 3 6 9."
   ]
  },
  {
   "cell_type": "code",
   "execution_count": 107,
   "id": "19813d6c-6475-40f0-8ca8-875f3c4a864e",
   "metadata": {},
   "outputs": [
    {
     "name": "stdout",
     "output_type": "stream",
     "text": [
      "9(a)\n",
      "\n",
      "0 1 2 3 4 5 6 7 8 9 10 11 12 13 14 15 16 17 18 19 20 21 22 23 24 25 26 27 28 29 30 31 32 33 34 35 36 37 38 39 40 41 42 43 44 45 46 47 48 49 50 51 52 53 54 55 56 57 58 59 60 61 62 63 64 65 66 67 68 69 70 71 72 73 74 75 76 77 78 79 80 81 82 83 84 85 86 87 88 89 90 91 92 93 94 95 96 97 98 99 \n",
      "\n",
      "9(b)\n",
      "0 7 14 21 28 35 42 49 56 63 70 77 84 91 98 \n",
      "\n",
      "9(c)\n",
      "5 10 20 25 35 40 50 55 65 70 80 85 95 100 \n",
      "\n",
      "9(d)\n",
      "Divisors of 4: 2\n",
      "Divisors of 6: 2 3\n",
      "Divisors of 8: 2 4\n",
      "Divisors of 9: 3\n",
      "Divisors of 10: 2 5\n",
      "Divisors of 12: 2 3 4 6\n",
      "Divisors of 14: 2 7\n",
      "Divisors of 15: 3 5\n",
      "Divisors of 16: 2 4 8\n",
      "Divisors of 18: 2 3 6 9\n",
      "Divisors of 20: 2 4 5 10\n"
     ]
    }
   ],
   "source": [
    "print ('9(a)')\n",
    "print()\n",
    "for i in range(100):\n",
    "    print(i, end=\" \")\n",
    "\n",
    "print()\n",
    "print()\n",
    "print ('9(b)')\n",
    "for i in range(101):\n",
    "    if i % 7 == 0:\n",
    "        print(i,end=\" \")\n",
    "\n",
    "print()\n",
    "print()\n",
    "print ('9(c)')\n",
    "for i in range(1, 101):\n",
    "    if i % 5 == 0 and i % 3 != 0:\n",
    "        print(i,end=\" \")\n",
    "\n",
    "print()\n",
    "print()\n",
    "print ('9(d)')\n",
    "for x in range(2, 21):\n",
    "    divisors = [d for d in range(2, x) if x % d == 0]\n",
    "    if divisors:\n",
    "        print(f\"Divisors of {x}:\", *divisors)\n",
    "\n",
    "\n"
   ]
  },
  {
   "cell_type": "markdown",
   "id": "32b7bcd6-04f0-4d79-a67c-21d2181fe642",
   "metadata": {},
   "source": [
    "10.\t\n",
    "a.\tDefine a function to do Multiplication, such as Mul(8,6),and it output 42.\n",
    "b.\tComplete the function definition so it returns the square of the product of the parameters, so sqrProd(2, 5) returns (2*5)*(2*5) = 100.\n",
    "def sqrProd(x, y):"
   ]
  },
  {
   "cell_type": "code",
   "execution_count": 112,
   "id": "0e50e4a4-5e60-4451-8725-3c5bf4df9f24",
   "metadata": {},
   "outputs": [
    {
     "name": "stdout",
     "output_type": "stream",
     "text": [
      "10(a)\n",
      "48\n",
      "\n",
      "\n",
      "10(b)\n",
      "100\n",
      "144\n"
     ]
    }
   ],
   "source": [
    "print ('10(a)')\n",
    "def Mul(a, b):\n",
    "    return a * b\n",
    "\n",
    "print(Mul(8, 6))\n",
    "\n",
    "print()\n",
    "print()\n",
    "print ('10(b)')\n",
    "def sqrProd(x, y):\n",
    "    product = x * y\n",
    "    return product * product\n",
    "\n",
    "\n",
    "print(sqrProd(2, 5))\n",
    "print(sqrProd(3, 4))"
   ]
  },
  {
   "cell_type": "markdown",
   "id": "6690eb6f-8240-40a2-8ce1-8cfe31691e39",
   "metadata": {},
   "source": [
    "11.\tImport numpy and then:\n",
    "a.\tUse numpy to define an array, the shape of it is (5,5) and all elements of it is 0.\n",
    "b.\tCreate a 3x3 matrix with values ranging from 0 to 8\n",
    "c.\tFind indices of non-zero elements from [1,2,0,0,4,0]\n",
    "d.\tCreate a 10x10 array with random values and find the minimum and maximum values\n",
    "e.\tCreate a random vector of size 30 and find the mean value "
   ]
  },
  {
   "cell_type": "code",
   "execution_count": 117,
   "id": "b2ba55f8-017e-40f8-878a-7e879bc57faa",
   "metadata": {},
   "outputs": [
    {
     "name": "stdout",
     "output_type": "stream",
     "text": [
      "5x5 Zero Array:\n",
      " [[0. 0. 0. 0. 0.]\n",
      " [0. 0. 0. 0. 0.]\n",
      " [0. 0. 0. 0. 0.]\n",
      " [0. 0. 0. 0. 0.]\n",
      " [0. 0. 0. 0. 0.]]\n",
      "\n",
      "3x3 Matrix (0 to 8):\n",
      " [[0 1 2]\n",
      " [3 4 5]\n",
      " [6 7 8]]\n",
      "\n",
      "Indices of non-zero elements: [0 1 4]\n",
      "\n",
      "10x10 Random Array:\n",
      " [[0.92239026 0.85379294 0.0329112  0.99626096 0.72382401 0.98722472\n",
      "  0.27935633 0.49869641 0.09619261 0.67831347]\n",
      " [0.6426084  0.41793614 0.63252547 0.08001877 0.80500076 0.28271917\n",
      "  0.33526319 0.42668957 0.02299481 0.08629364]\n",
      " [0.72628224 0.4861315  0.34490867 0.65595413 0.69666168 0.22142543\n",
      "  0.30082649 0.97158552 0.47864629 0.5530639 ]\n",
      " [0.90832826 0.7126265  0.74671229 0.46333841 0.92863221 0.21138425\n",
      "  0.09636642 0.27697981 0.91820414 0.77718549]\n",
      " [0.47262889 0.12831537 0.95498944 0.64722102 0.17931177 0.13557376\n",
      "  0.89628617 0.17733205 0.93147188 0.82731375]\n",
      " [0.26146242 0.3831283  0.65689223 0.91815405 0.02728003 0.22610977\n",
      "  0.30532993 0.69598095 0.0850938  0.02834323]\n",
      " [0.7560389  0.24627637 0.42244026 0.07232081 0.93336967 0.86713033\n",
      "  0.41441881 0.00701337 0.17924421 0.21355071]\n",
      " [0.97702774 0.71632576 0.2878074  0.39461208 0.24924997 0.96991086\n",
      "  0.95133714 0.26225721 0.77301314 0.94577189]\n",
      " [0.45577265 0.93334665 0.30454898 0.4751256  0.76129742 0.54859167\n",
      "  0.12905317 0.95854766 0.65530704 0.91804741]\n",
      " [0.53640333 0.52196552 0.60878351 0.29030359 0.67311203 0.76209945\n",
      "  0.95942137 0.77869347 0.67398435 0.37069577]]\n",
      "Min Value: 0.007013368585069624\n",
      "Max Value: 0.9962609554641326\n",
      "\n",
      "Random Vector of Size 30:\n",
      " [0.57964591 0.27256275 0.79022402 0.66158991 0.5421377  0.5470098\n",
      " 0.77628181 0.21014734 0.297989   0.14865248 0.3011414  0.13026518\n",
      " 0.5459127  0.01709477 0.47706927 0.57729062 0.28199064 0.04123035\n",
      " 0.6641698  0.04957331 0.5848046  0.57325095 0.10413081 0.1900929\n",
      " 0.9373292  0.60069705 0.875096   0.88590166 0.41567593 0.57966678]\n",
      "Mean Value: 0.4552874875109208\n"
     ]
    }
   ],
   "source": [
    "import numpy as np\n",
    "\n",
    "# (a) Define a 5x5 array filled with zeros\n",
    "array_5x5 = np.zeros((5, 5))\n",
    "print(\"5x5 Zero Array:\\n\", array_5x5)\n",
    "\n",
    "# (b) Create a 3x3 matrix with values ranging from 0 to 8\n",
    "matrix_3x3 = np.arange(9).reshape(3, 3)\n",
    "print(\"\\n3x3 Matrix (0 to 8):\\n\", matrix_3x3)\n",
    "\n",
    "# (c) Find indices of non-zero elements from [1,2,0,0,4,0]\n",
    "array = np.array([1, 2, 0, 0, 4, 0])\n",
    "nonzero_indices = np.nonzero(array)\n",
    "print(\"\\nIndices of non-zero elements:\", nonzero_indices[0])\n",
    "\n",
    "# (d) Create a 10x10 array with random values and find min and max values\n",
    "random_10x10 = np.random.rand(10, 10)\n",
    "min_value = np.min(random_10x10)\n",
    "max_value = np.max(random_10x10)\n",
    "print(\"\\n10x10 Random Array:\\n\", random_10x10)\n",
    "print(\"Min Value:\", min_value)\n",
    "print(\"Max Value:\", max_value)\n",
    "\n",
    "# (e) Create a random vector of size 30 and find the mean value\n",
    "random_vector = np.random.rand(30)\n",
    "mean_value = np.mean(random_vector)\n",
    "print(\"\\nRandom Vector of Size 30:\\n\", random_vector)\n",
    "print(\"Mean Value:\", mean_value)\n"
   ]
  },
  {
   "cell_type": "markdown",
   "id": "0eb4ff5f-d52d-4583-aad3-9e9f479733db",
   "metadata": {},
   "source": [
    "12.\tWrite a Python program that prompts the user for two numbers, reads them in, and prints out the product, sum, difference and quotient using an appropriate format and labeled appropriately."
   ]
  },
  {
   "cell_type": "code",
   "execution_count": 120,
   "id": "7d3a0263-5539-4440-bb76-d836fdb6f933",
   "metadata": {},
   "outputs": [
    {
     "name": "stdin",
     "output_type": "stream",
     "text": [
      "Enter the first number:  34\n",
      "Enter the second number:  45\n"
     ]
    },
    {
     "name": "stdout",
     "output_type": "stream",
     "text": [
      "\n",
      "Results:\n",
      "Sum: 34.0 + 45.0 = 79.0\n",
      "Product: 34.0 * 45.0 = 1530.0\n",
      "Difference: 34.0 - 45.0 = -11.0\n",
      "Quotient: 34.0 / 45.0 = 0.7555555555555555\n"
     ]
    }
   ],
   "source": [
    "num1 = float(input(\"Enter the first number: \"))\n",
    "num2 = float(input(\"Enter the second number: \"))\n",
    "\n",
    "\n",
    "product = num1 * num2\n",
    "sum_result = num1 + num2\n",
    "difference = num1 - num2\n",
    "quotient = num1 / num2 if num2 != 0 else \"Undefined (division by zero)\"\n",
    "\n",
    "print(\"\\nResults:\")\n",
    "print(f\"Sum: {num1} + {num2} = {sum_result}\")\n",
    "print(f\"Product: {num1} * {num2} = {product}\")\n",
    "print(f\"Difference: {num1} - {num2} = {difference}\")\n",
    "print(f\"Quotient: {num1} / {num2} = {quotient}\")\n"
   ]
  },
  {
   "cell_type": "markdown",
   "id": "4c1f5e86-d176-4e33-8f7e-1c5aff147074",
   "metadata": {},
   "source": [
    "13.\t\n",
    "a.\tComplete the code for the following function so it matches its documentation:\n",
    "def doubleList(numberList):\n",
    "For each of the numbers in the list numberList, print a line containing twice the original number. For example,\n",
    "doubleList ([3, 1, 5]) would print 6, 2, 10\n",
    "b.\tWrite a function that evaluates the polynomial 3x2 - x + 2.  Test with x = 3 and share your results\n",
    "c.\tWrite a function my_max(x,y) that returns the maximum of x and y. Do not use the max function, but use it instead in following two ways:\n",
    "i.\tUse both if and else.\n",
    "ii.\tUse if but not else (nor elif).\n",
    "d.\tWrite a program to read and calculate the area and circumference of a circle using two functions, area() and circum()."
   ]
  },
  {
   "cell_type": "code",
   "execution_count": 123,
   "id": "b96da8a2-14a5-47bd-8e7f-6f63f9851107",
   "metadata": {},
   "outputs": [
    {
     "name": "stdout",
     "output_type": "stream",
     "text": [
      "13(a)\n",
      "6, 2, 10, \n",
      "\n",
      "\n",
      "13(b)\n",
      "Polynomial result (3x² - x + 2) at x=3: 26\n",
      "\n",
      "\n",
      "13(c, i)\n",
      "Max of 7 and 10: 10\n",
      "\n",
      "\n",
      "13(c , ii)\n",
      "Max of 12 and 5: 12\n",
      "\n",
      "\n",
      "13(d)\n"
     ]
    },
    {
     "name": "stdin",
     "output_type": "stream",
     "text": [
      "Enter the radius of the circle:  45\n"
     ]
    },
    {
     "name": "stdout",
     "output_type": "stream",
     "text": [
      "Area of the circle: 6361.73\n",
      "Circumference of the circle: 282.74\n"
     ]
    }
   ],
   "source": [
    "print ('13(a)')\n",
    "def doubleList(numberList):\n",
    "    for num in numberList:\n",
    "        print(num * 2, end=\", \") \n",
    "    print() \n",
    "doubleList([3, 1, 5])\n",
    "\n",
    "print()\n",
    "print()\n",
    "print ('13(b)')\n",
    "def polynomial(x):\n",
    "    return 3 * (x ** 2) - x + 2\n",
    "\n",
    "\n",
    "result = polynomial(3)\n",
    "print(\"Polynomial result (3x² - x + 2) at x=3:\", result)\n",
    "\n",
    "print()\n",
    "print()\n",
    "print ('13(c, i)')\n",
    "def my_max_if_else(x, y):\n",
    "    if x > y:\n",
    "        return x\n",
    "    else:\n",
    "        return y\n",
    "\n",
    "print(\"Max of 7 and 10:\", my_max_if_else(7, 10))\n",
    "\n",
    "print()\n",
    "print()\n",
    "print ('13(c , ii)')\n",
    "def my_max_if(x, y):\n",
    "    if x > y:\n",
    "        return x\n",
    "    return y\n",
    "\n",
    "\n",
    "print(\"Max of 12 and 5:\", my_max_if(12, 5))\n",
    "\n",
    "\n",
    "print()\n",
    "print()\n",
    "print ('13(d)')\n",
    "\n",
    "import math\n",
    "\n",
    "def area(radius):\n",
    "    return math.pi * (radius ** 2)\n",
    "\n",
    "def circum(radius):\n",
    "    return 2 * math.pi * radius\n",
    "\n",
    "r = float(input(\"Enter the radius of the circle: \"))\n",
    "\n",
    "print(f\"Area of the circle: {area(r):.2f}\")\n",
    "print(f\"Circumference of the circle: {circum(r):.2f}\")\n",
    "\n",
    "\n"
   ]
  },
  {
   "cell_type": "markdown",
   "id": "79b77077-a21f-4dd0-84d6-879b474b5c17",
   "metadata": {},
   "source": [
    "14.\tObject Oriented Programming\n",
    "a.\tCreate a Vehicle class with max_speed and mileage instance attributes. Create an instance of the Vehicle class and use the following data with appropriate methods to read and display the values (max_speed: 240 km/hr, mileage: 10,000 km)\n",
    "b.\tCreate child class Bus that will inherit all of the variables and methods of the Vehicle class, and has name attribute. Use the following data to test your class; Name: \"School Mercedes\", max_speed = 180, mileage = 1000. Test and display members of Bus class\n",
    "c.\tCreate a Bus class that inherits from the Vehicle class. Add an attribute the seating_capacity and give the argument of Bus.seating_capacity() a default value of 50.\n",
    "d.\tDefine a class attribute”color” with a default value white. i.e., Every Vehicle should be white. Test and display members of both the Vehicle and Bus classes.\n"
   ]
  },
  {
   "cell_type": "code",
   "execution_count": null,
   "id": "3a96ba0e-1189-4a7f-92b7-b5ed76e15fcb",
   "metadata": {},
   "outputs": [],
   "source": []
  }
 ],
 "metadata": {
  "kernelspec": {
   "display_name": "Python 3 (ipykernel)",
   "language": "python",
   "name": "python3"
  },
  "language_info": {
   "codemirror_mode": {
    "name": "ipython",
    "version": 3
   },
   "file_extension": ".py",
   "mimetype": "text/x-python",
   "name": "python",
   "nbconvert_exporter": "python",
   "pygments_lexer": "ipython3",
   "version": "3.12.7"
  }
 },
 "nbformat": 4,
 "nbformat_minor": 5
}
